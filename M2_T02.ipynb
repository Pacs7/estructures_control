{
 "cells": [
  {
   "cell_type": "markdown",
   "id": "9556cf0c",
   "metadata": {},
   "source": [
    "# Sprint 2\n",
    "## Tasca M2 T02\n",
    "\n",
    "### Exercici 1\n",
    "\n",
    "L'exercici consisteix a crear un programa que et classifiqui una variable numèrica en funció de l’escala Suspès/Aprovat/Notable/Excel·lent.\n",
    "\n",
    "Recorda que Suspès < 5, Aprovat > 5 i < 7, Notable > 7 i < 9 i Excel·lent > 9."
   ]
  },
  {
   "cell_type": "code",
   "execution_count": 1,
   "id": "0f4c389b",
   "metadata": {},
   "outputs": [
    {
     "name": "stdout",
     "output_type": "stream",
     "text": [
      "Enter your grade: 8.4\n",
      "\n",
      "Notable, 8.4\n"
     ]
    }
   ],
   "source": [
    "## Creation of function\n",
    "\n",
    "def classvar(var):\n",
    "    if var<5:\n",
    "        print(\"\\nSuspès,\",var)\n",
    "        cvar=['Suspès',var]\n",
    "    elif (var>5) and (var<7):\n",
    "        print(\"\\nAprovat,\",var)\n",
    "        cvar=['Aprovat',var]\n",
    "    elif (var>7) and (var<9):\n",
    "        print(\"\\nNotable,\",var)\n",
    "        cvar=['Notable',var]\n",
    "    elif var>9:\n",
    "        print(\"\\nExcel·lent,\",var)\n",
    "        cvar=['Excel·lent',var]\n",
    "    return cvar\n",
    "\n",
    "## Example\n",
    "\n",
    "#nota=8.7\n",
    "nota = float(input('Enter your grade: '))\n",
    "cvar=classvar(nota)"
   ]
  },
  {
   "cell_type": "markdown",
   "id": "3e45ac2b",
   "metadata": {},
   "source": [
    "### Exercici 2\n",
    "\n",
    "Utilitzant el següent tutorial crea un programa que et pregunti dos números. T’ha de mostrar un missatge dient si el primer és més gran, el segon és més gran o són iguals.\n",
    "\n",
    "->Programiz: Python Input, Output and Import"
   ]
  },
  {
   "cell_type": "code",
   "execution_count": 2,
   "id": "d60c7058",
   "metadata": {},
   "outputs": [
    {
     "name": "stdout",
     "output_type": "stream",
     "text": [
      "Enter a number (1): 6\n",
      "Enter a number (2): 4\n",
      "\n",
      "Number 6 is the largest\n"
     ]
    }
   ],
   "source": [
    "## Creation of function\n",
    "\n",
    "def compnum():\n",
    "    num1 = int(input('Enter a number (1): '))\n",
    "    num2 = int(input('Enter a number (2): '))\n",
    "    if(num1>num2) and (num1 != num2):\n",
    "        print(\"\\nNumber\",num1, \"is the largest\")\n",
    "    elif(num2>num1) and (num2 != num1):\n",
    "        print(\"\\nNumber\",num2, \"is the largest\")\n",
    "    else:\n",
    "        print(\"\\nEntered numbers are equal\")\n",
    "        \n",
    "#Example\n",
    "\n",
    "compnum()"
   ]
  },
  {
   "cell_type": "markdown",
   "id": "cf0bd5d5",
   "metadata": {},
   "source": [
    "### Exercici 3\n",
    "\n",
    "Crea un programa que et pregunti el teu nom, i et demani un número. Si el número és 0, hauria de mostrar un missatge d’error. En cas contrari, hauria de mostrar el nom repetit tants cops com indiqui el número. Per exemple, “Joan Joan Joan”."
   ]
  },
  {
   "cell_type": "code",
   "execution_count": 3,
   "id": "59272d95",
   "metadata": {},
   "outputs": [
    {
     "name": "stdout",
     "output_type": "stream",
     "text": [
      "Enter a number: 4\n",
      "\n",
      " Tamara Tamara Tamara Tamara\n"
     ]
    }
   ],
   "source": [
    "## Creation of function\n",
    "\n",
    "def namerep(name):\n",
    "    st=[]\n",
    "    num = int(input('Enter a number: '))\n",
    "    if num == 0:\n",
    "        print(\"Error, número no disponible\")\n",
    "    else:\n",
    "        for ii in range(num):\n",
    "            st.append(name)\n",
    "        print(\"\\n\",*st)\n",
    "    return st\n",
    "\n",
    "#Example\n",
    "\n",
    "st=namerep('Tamara')"
   ]
  },
  {
   "cell_type": "markdown",
   "id": "8f8f9663",
   "metadata": {},
   "source": [
    "### Exercici 4\n",
    "\n",
    "Crea un programa que donada una llista qualsevol, et digui si és simètrica o no. Si ho és, que et digui quants elements té."
   ]
  },
  {
   "cell_type": "code",
   "execution_count": 4,
   "id": "1deb62a5",
   "metadata": {},
   "outputs": [
    {
     "name": "stdout",
     "output_type": "stream",
     "text": [
      "[1, 3, 5, 5, 3, 1] és simètrica parella i té: 6 elements\n"
     ]
    }
   ],
   "source": [
    "## Creation of function\n",
    "\n",
    "def sim(ll):\n",
    "    ls=len(ll)\n",
    "    sc=1\n",
    "    for ii in range(int((ls)/2)):\n",
    "        if ll[ii] != ll[(ls-1)-ii]:\n",
    "            sc=0\n",
    "            break\n",
    "            \n",
    "    if sc==0:\n",
    "        print(ll,'No és simètrica')\n",
    "    elif sc==1:\n",
    "        if (ls % 2) == 0:\n",
    "            print(ll,'és simètrica parella i té:',ls,'elements')\n",
    "        else:\n",
    "            print(ll,'és simètrica imparella i té:',ls,'elements')\n",
    "    return ls\n",
    "            \n",
    "#Example\n",
    "\n",
    "ll=[1,3,5,5,3,1]\n",
    "ls=sim(ll)"
   ]
  },
  {
   "cell_type": "markdown",
   "id": "90f1272b",
   "metadata": {},
   "source": [
    "### Exercici 5\n",
    "\n",
    "Crea un programa que donada una llista, et digui quants números coincideixen amb la seva posició. Per exemple [3,4,2,0,2,3,6] el 2 i el 6 coincideixen."
   ]
  },
  {
   "cell_type": "code",
   "execution_count": 5,
   "id": "91623f8c",
   "metadata": {},
   "outputs": [
    {
     "name": "stdout",
     "output_type": "stream",
     "text": [
      "\n",
      "This numbers coincide:\n",
      "2, 3, 5\n"
     ]
    }
   ],
   "source": [
    "## Creation of function\n",
    "\n",
    "def coincl(llista):\n",
    "    cn=[]\n",
    "    for ii in range(len(llista)):\n",
    "        if llista[ii] == ii:\n",
    "            cn.append(llista[ii])\n",
    "        \n",
    "    print(\"\\nThis numbers coincide:\")\n",
    "    print(*cn, sep=\", \")\n",
    "    return cn\n",
    "\n",
    "#Example\n",
    "\n",
    "llista=[3,4,2,3,3,5,8,9,7]\n",
    "cn=coincl(llista)"
   ]
  }
 ],
 "metadata": {
  "kernelspec": {
   "display_name": "Python 3",
   "language": "python",
   "name": "python3"
  },
  "language_info": {
   "codemirror_mode": {
    "name": "ipython",
    "version": 3
   },
   "file_extension": ".py",
   "mimetype": "text/x-python",
   "name": "python",
   "nbconvert_exporter": "python",
   "pygments_lexer": "ipython3",
   "version": "3.8.8"
  }
 },
 "nbformat": 4,
 "nbformat_minor": 5
}
